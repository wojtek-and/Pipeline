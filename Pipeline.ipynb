{
  "nbformat": 4,
  "nbformat_minor": 0,
  "metadata": {
    "colab": {
      "provenance": []
    },
    "kernelspec": {
      "name": "python3",
      "display_name": "Python 3"
    },
    "language_info": {
      "name": "python"
    }
  },
  "cells": [
    {
      "cell_type": "code",
      "execution_count": 1,
      "metadata": {
        "id": "6BefMvzTznTU"
      },
      "outputs": [],
      "source": [
        "# manipulacja danymi\n",
        "import numpy as np\n",
        "import pandas as pd\n",
        "\n",
        "# wizualizacja\n",
        "import matplotlib.pyplot as plt\n",
        "import seaborn as sns\n",
        "\n",
        "# podział danych na zbiory treningowe/walidacyjne/testowe\n",
        "from sklearn.model_selection import train_test_split, GridSearchCV\n",
        "\n",
        "# budowa Pipeline\n",
        "from sklearn.pipeline import FeatureUnion, Pipeline\n",
        "from sklearn.base import BaseEstimator, TransformerMixin\n",
        "from sklearn.compose import ColumnTransformer\n",
        "\n",
        "# Preprocessing\n",
        "from sklearn.impute import SimpleImputer\n",
        "from sklearn.preprocessing import OneHotEncoder, StandardScaler, PolynomialFeatures, PowerTransformer\n",
        "\n",
        "# redukcja wymiarowości\n",
        "from sklearn.decomposition import PCA\n",
        "\n",
        "# model\n",
        "from sklearn.linear_model import LogisticRegression\n",
        "\n",
        "# ewaluacja\n",
        "from sklearn.metrics import classification_report, confusion_matrix, roc_curve, f1_score, roc_auc_score"
      ]
    },
    {
      "cell_type": "code",
      "source": [
        "dataset = pd.read_csv('penguins.csv')\n",
        "dataset"
      ],
      "metadata": {
        "colab": {
          "base_uri": "https://localhost:8080/",
          "height": 423
        },
        "id": "EZSlLE9HzzG0",
        "outputId": "921014e7-8b72-4e73-9256-08ab78966ca6"
      },
      "execution_count": 2,
      "outputs": [
        {
          "output_type": "execute_result",
          "data": {
            "text/plain": [
              "     CulmenLength  CulmenDepth  FlipperLength  BodyMass  Species\n",
              "0            39.1         18.7          181.0    3750.0        0\n",
              "1            39.5         17.4          186.0    3800.0        0\n",
              "2            40.3         18.0          195.0    3250.0        0\n",
              "3             NaN          NaN            NaN       NaN        0\n",
              "4            36.7         19.3          193.0    3450.0        0\n",
              "..            ...          ...            ...       ...      ...\n",
              "339          55.8         19.8          207.0    4000.0        2\n",
              "340          43.5         18.1          202.0    3400.0        2\n",
              "341          49.6         18.2          193.0    3775.0        2\n",
              "342          50.8         19.0          210.0    4100.0        2\n",
              "343          50.2         18.7          198.0    3775.0        2\n",
              "\n",
              "[344 rows x 5 columns]"
            ],
            "text/html": [
              "\n",
              "  <div id=\"df-83cf0d39-c56f-473e-af00-0ae8a286f5de\" class=\"colab-df-container\">\n",
              "    <div>\n",
              "<style scoped>\n",
              "    .dataframe tbody tr th:only-of-type {\n",
              "        vertical-align: middle;\n",
              "    }\n",
              "\n",
              "    .dataframe tbody tr th {\n",
              "        vertical-align: top;\n",
              "    }\n",
              "\n",
              "    .dataframe thead th {\n",
              "        text-align: right;\n",
              "    }\n",
              "</style>\n",
              "<table border=\"1\" class=\"dataframe\">\n",
              "  <thead>\n",
              "    <tr style=\"text-align: right;\">\n",
              "      <th></th>\n",
              "      <th>CulmenLength</th>\n",
              "      <th>CulmenDepth</th>\n",
              "      <th>FlipperLength</th>\n",
              "      <th>BodyMass</th>\n",
              "      <th>Species</th>\n",
              "    </tr>\n",
              "  </thead>\n",
              "  <tbody>\n",
              "    <tr>\n",
              "      <th>0</th>\n",
              "      <td>39.1</td>\n",
              "      <td>18.7</td>\n",
              "      <td>181.0</td>\n",
              "      <td>3750.0</td>\n",
              "      <td>0</td>\n",
              "    </tr>\n",
              "    <tr>\n",
              "      <th>1</th>\n",
              "      <td>39.5</td>\n",
              "      <td>17.4</td>\n",
              "      <td>186.0</td>\n",
              "      <td>3800.0</td>\n",
              "      <td>0</td>\n",
              "    </tr>\n",
              "    <tr>\n",
              "      <th>2</th>\n",
              "      <td>40.3</td>\n",
              "      <td>18.0</td>\n",
              "      <td>195.0</td>\n",
              "      <td>3250.0</td>\n",
              "      <td>0</td>\n",
              "    </tr>\n",
              "    <tr>\n",
              "      <th>3</th>\n",
              "      <td>NaN</td>\n",
              "      <td>NaN</td>\n",
              "      <td>NaN</td>\n",
              "      <td>NaN</td>\n",
              "      <td>0</td>\n",
              "    </tr>\n",
              "    <tr>\n",
              "      <th>4</th>\n",
              "      <td>36.7</td>\n",
              "      <td>19.3</td>\n",
              "      <td>193.0</td>\n",
              "      <td>3450.0</td>\n",
              "      <td>0</td>\n",
              "    </tr>\n",
              "    <tr>\n",
              "      <th>...</th>\n",
              "      <td>...</td>\n",
              "      <td>...</td>\n",
              "      <td>...</td>\n",
              "      <td>...</td>\n",
              "      <td>...</td>\n",
              "    </tr>\n",
              "    <tr>\n",
              "      <th>339</th>\n",
              "      <td>55.8</td>\n",
              "      <td>19.8</td>\n",
              "      <td>207.0</td>\n",
              "      <td>4000.0</td>\n",
              "      <td>2</td>\n",
              "    </tr>\n",
              "    <tr>\n",
              "      <th>340</th>\n",
              "      <td>43.5</td>\n",
              "      <td>18.1</td>\n",
              "      <td>202.0</td>\n",
              "      <td>3400.0</td>\n",
              "      <td>2</td>\n",
              "    </tr>\n",
              "    <tr>\n",
              "      <th>341</th>\n",
              "      <td>49.6</td>\n",
              "      <td>18.2</td>\n",
              "      <td>193.0</td>\n",
              "      <td>3775.0</td>\n",
              "      <td>2</td>\n",
              "    </tr>\n",
              "    <tr>\n",
              "      <th>342</th>\n",
              "      <td>50.8</td>\n",
              "      <td>19.0</td>\n",
              "      <td>210.0</td>\n",
              "      <td>4100.0</td>\n",
              "      <td>2</td>\n",
              "    </tr>\n",
              "    <tr>\n",
              "      <th>343</th>\n",
              "      <td>50.2</td>\n",
              "      <td>18.7</td>\n",
              "      <td>198.0</td>\n",
              "      <td>3775.0</td>\n",
              "      <td>2</td>\n",
              "    </tr>\n",
              "  </tbody>\n",
              "</table>\n",
              "<p>344 rows × 5 columns</p>\n",
              "</div>\n",
              "    <div class=\"colab-df-buttons\">\n",
              "\n",
              "  <div class=\"colab-df-container\">\n",
              "    <button class=\"colab-df-convert\" onclick=\"convertToInteractive('df-83cf0d39-c56f-473e-af00-0ae8a286f5de')\"\n",
              "            title=\"Convert this dataframe to an interactive table.\"\n",
              "            style=\"display:none;\">\n",
              "\n",
              "  <svg xmlns=\"http://www.w3.org/2000/svg\" height=\"24px\" viewBox=\"0 -960 960 960\">\n",
              "    <path d=\"M120-120v-720h720v720H120Zm60-500h600v-160H180v160Zm220 220h160v-160H400v160Zm0 220h160v-160H400v160ZM180-400h160v-160H180v160Zm440 0h160v-160H620v160ZM180-180h160v-160H180v160Zm440 0h160v-160H620v160Z\"/>\n",
              "  </svg>\n",
              "    </button>\n",
              "\n",
              "  <style>\n",
              "    .colab-df-container {\n",
              "      display:flex;\n",
              "      gap: 12px;\n",
              "    }\n",
              "\n",
              "    .colab-df-convert {\n",
              "      background-color: #E8F0FE;\n",
              "      border: none;\n",
              "      border-radius: 50%;\n",
              "      cursor: pointer;\n",
              "      display: none;\n",
              "      fill: #1967D2;\n",
              "      height: 32px;\n",
              "      padding: 0 0 0 0;\n",
              "      width: 32px;\n",
              "    }\n",
              "\n",
              "    .colab-df-convert:hover {\n",
              "      background-color: #E2EBFA;\n",
              "      box-shadow: 0px 1px 2px rgba(60, 64, 67, 0.3), 0px 1px 3px 1px rgba(60, 64, 67, 0.15);\n",
              "      fill: #174EA6;\n",
              "    }\n",
              "\n",
              "    .colab-df-buttons div {\n",
              "      margin-bottom: 4px;\n",
              "    }\n",
              "\n",
              "    [theme=dark] .colab-df-convert {\n",
              "      background-color: #3B4455;\n",
              "      fill: #D2E3FC;\n",
              "    }\n",
              "\n",
              "    [theme=dark] .colab-df-convert:hover {\n",
              "      background-color: #434B5C;\n",
              "      box-shadow: 0px 1px 3px 1px rgba(0, 0, 0, 0.15);\n",
              "      filter: drop-shadow(0px 1px 2px rgba(0, 0, 0, 0.3));\n",
              "      fill: #FFFFFF;\n",
              "    }\n",
              "  </style>\n",
              "\n",
              "    <script>\n",
              "      const buttonEl =\n",
              "        document.querySelector('#df-83cf0d39-c56f-473e-af00-0ae8a286f5de button.colab-df-convert');\n",
              "      buttonEl.style.display =\n",
              "        google.colab.kernel.accessAllowed ? 'block' : 'none';\n",
              "\n",
              "      async function convertToInteractive(key) {\n",
              "        const element = document.querySelector('#df-83cf0d39-c56f-473e-af00-0ae8a286f5de');\n",
              "        const dataTable =\n",
              "          await google.colab.kernel.invokeFunction('convertToInteractive',\n",
              "                                                    [key], {});\n",
              "        if (!dataTable) return;\n",
              "\n",
              "        const docLinkHtml = 'Like what you see? Visit the ' +\n",
              "          '<a target=\"_blank\" href=https://colab.research.google.com/notebooks/data_table.ipynb>data table notebook</a>'\n",
              "          + ' to learn more about interactive tables.';\n",
              "        element.innerHTML = '';\n",
              "        dataTable['output_type'] = 'display_data';\n",
              "        await google.colab.output.renderOutput(dataTable, element);\n",
              "        const docLink = document.createElement('div');\n",
              "        docLink.innerHTML = docLinkHtml;\n",
              "        element.appendChild(docLink);\n",
              "      }\n",
              "    </script>\n",
              "  </div>\n",
              "\n",
              "\n",
              "<div id=\"df-ebb8b769-58d4-44f0-b98d-ad996fc76940\">\n",
              "  <button class=\"colab-df-quickchart\" onclick=\"quickchart('df-ebb8b769-58d4-44f0-b98d-ad996fc76940')\"\n",
              "            title=\"Suggest charts\"\n",
              "            style=\"display:none;\">\n",
              "\n",
              "<svg xmlns=\"http://www.w3.org/2000/svg\" height=\"24px\"viewBox=\"0 0 24 24\"\n",
              "     width=\"24px\">\n",
              "    <g>\n",
              "        <path d=\"M19 3H5c-1.1 0-2 .9-2 2v14c0 1.1.9 2 2 2h14c1.1 0 2-.9 2-2V5c0-1.1-.9-2-2-2zM9 17H7v-7h2v7zm4 0h-2V7h2v10zm4 0h-2v-4h2v4z\"/>\n",
              "    </g>\n",
              "</svg>\n",
              "  </button>\n",
              "\n",
              "<style>\n",
              "  .colab-df-quickchart {\n",
              "      --bg-color: #E8F0FE;\n",
              "      --fill-color: #1967D2;\n",
              "      --hover-bg-color: #E2EBFA;\n",
              "      --hover-fill-color: #174EA6;\n",
              "      --disabled-fill-color: #AAA;\n",
              "      --disabled-bg-color: #DDD;\n",
              "  }\n",
              "\n",
              "  [theme=dark] .colab-df-quickchart {\n",
              "      --bg-color: #3B4455;\n",
              "      --fill-color: #D2E3FC;\n",
              "      --hover-bg-color: #434B5C;\n",
              "      --hover-fill-color: #FFFFFF;\n",
              "      --disabled-bg-color: #3B4455;\n",
              "      --disabled-fill-color: #666;\n",
              "  }\n",
              "\n",
              "  .colab-df-quickchart {\n",
              "    background-color: var(--bg-color);\n",
              "    border: none;\n",
              "    border-radius: 50%;\n",
              "    cursor: pointer;\n",
              "    display: none;\n",
              "    fill: var(--fill-color);\n",
              "    height: 32px;\n",
              "    padding: 0;\n",
              "    width: 32px;\n",
              "  }\n",
              "\n",
              "  .colab-df-quickchart:hover {\n",
              "    background-color: var(--hover-bg-color);\n",
              "    box-shadow: 0 1px 2px rgba(60, 64, 67, 0.3), 0 1px 3px 1px rgba(60, 64, 67, 0.15);\n",
              "    fill: var(--button-hover-fill-color);\n",
              "  }\n",
              "\n",
              "  .colab-df-quickchart-complete:disabled,\n",
              "  .colab-df-quickchart-complete:disabled:hover {\n",
              "    background-color: var(--disabled-bg-color);\n",
              "    fill: var(--disabled-fill-color);\n",
              "    box-shadow: none;\n",
              "  }\n",
              "\n",
              "  .colab-df-spinner {\n",
              "    border: 2px solid var(--fill-color);\n",
              "    border-color: transparent;\n",
              "    border-bottom-color: var(--fill-color);\n",
              "    animation:\n",
              "      spin 1s steps(1) infinite;\n",
              "  }\n",
              "\n",
              "  @keyframes spin {\n",
              "    0% {\n",
              "      border-color: transparent;\n",
              "      border-bottom-color: var(--fill-color);\n",
              "      border-left-color: var(--fill-color);\n",
              "    }\n",
              "    20% {\n",
              "      border-color: transparent;\n",
              "      border-left-color: var(--fill-color);\n",
              "      border-top-color: var(--fill-color);\n",
              "    }\n",
              "    30% {\n",
              "      border-color: transparent;\n",
              "      border-left-color: var(--fill-color);\n",
              "      border-top-color: var(--fill-color);\n",
              "      border-right-color: var(--fill-color);\n",
              "    }\n",
              "    40% {\n",
              "      border-color: transparent;\n",
              "      border-right-color: var(--fill-color);\n",
              "      border-top-color: var(--fill-color);\n",
              "    }\n",
              "    60% {\n",
              "      border-color: transparent;\n",
              "      border-right-color: var(--fill-color);\n",
              "    }\n",
              "    80% {\n",
              "      border-color: transparent;\n",
              "      border-right-color: var(--fill-color);\n",
              "      border-bottom-color: var(--fill-color);\n",
              "    }\n",
              "    90% {\n",
              "      border-color: transparent;\n",
              "      border-bottom-color: var(--fill-color);\n",
              "    }\n",
              "  }\n",
              "</style>\n",
              "\n",
              "  <script>\n",
              "    async function quickchart(key) {\n",
              "      const quickchartButtonEl =\n",
              "        document.querySelector('#' + key + ' button');\n",
              "      quickchartButtonEl.disabled = true;  // To prevent multiple clicks.\n",
              "      quickchartButtonEl.classList.add('colab-df-spinner');\n",
              "      try {\n",
              "        const charts = await google.colab.kernel.invokeFunction(\n",
              "            'suggestCharts', [key], {});\n",
              "      } catch (error) {\n",
              "        console.error('Error during call to suggestCharts:', error);\n",
              "      }\n",
              "      quickchartButtonEl.classList.remove('colab-df-spinner');\n",
              "      quickchartButtonEl.classList.add('colab-df-quickchart-complete');\n",
              "    }\n",
              "    (() => {\n",
              "      let quickchartButtonEl =\n",
              "        document.querySelector('#df-ebb8b769-58d4-44f0-b98d-ad996fc76940 button');\n",
              "      quickchartButtonEl.style.display =\n",
              "        google.colab.kernel.accessAllowed ? 'block' : 'none';\n",
              "    })();\n",
              "  </script>\n",
              "</div>\n",
              "\n",
              "  <div id=\"id_a2fb4d18-c0da-44c4-bf39-f24cfdf19ebc\">\n",
              "    <style>\n",
              "      .colab-df-generate {\n",
              "        background-color: #E8F0FE;\n",
              "        border: none;\n",
              "        border-radius: 50%;\n",
              "        cursor: pointer;\n",
              "        display: none;\n",
              "        fill: #1967D2;\n",
              "        height: 32px;\n",
              "        padding: 0 0 0 0;\n",
              "        width: 32px;\n",
              "      }\n",
              "\n",
              "      .colab-df-generate:hover {\n",
              "        background-color: #E2EBFA;\n",
              "        box-shadow: 0px 1px 2px rgba(60, 64, 67, 0.3), 0px 1px 3px 1px rgba(60, 64, 67, 0.15);\n",
              "        fill: #174EA6;\n",
              "      }\n",
              "\n",
              "      [theme=dark] .colab-df-generate {\n",
              "        background-color: #3B4455;\n",
              "        fill: #D2E3FC;\n",
              "      }\n",
              "\n",
              "      [theme=dark] .colab-df-generate:hover {\n",
              "        background-color: #434B5C;\n",
              "        box-shadow: 0px 1px 3px 1px rgba(0, 0, 0, 0.15);\n",
              "        filter: drop-shadow(0px 1px 2px rgba(0, 0, 0, 0.3));\n",
              "        fill: #FFFFFF;\n",
              "      }\n",
              "    </style>\n",
              "    <button class=\"colab-df-generate\" onclick=\"generateWithVariable('dataset')\"\n",
              "            title=\"Generate code using this dataframe.\"\n",
              "            style=\"display:none;\">\n",
              "\n",
              "  <svg xmlns=\"http://www.w3.org/2000/svg\" height=\"24px\"viewBox=\"0 0 24 24\"\n",
              "       width=\"24px\">\n",
              "    <path d=\"M7,19H8.4L18.45,9,17,7.55,7,17.6ZM5,21V16.75L18.45,3.32a2,2,0,0,1,2.83,0l1.4,1.43a1.91,1.91,0,0,1,.58,1.4,1.91,1.91,0,0,1-.58,1.4L9.25,21ZM18.45,9,17,7.55Zm-12,3A5.31,5.31,0,0,0,4.9,8.1,5.31,5.31,0,0,0,1,6.5,5.31,5.31,0,0,0,4.9,4.9,5.31,5.31,0,0,0,6.5,1,5.31,5.31,0,0,0,8.1,4.9,5.31,5.31,0,0,0,12,6.5,5.46,5.46,0,0,0,6.5,12Z\"/>\n",
              "  </svg>\n",
              "    </button>\n",
              "    <script>\n",
              "      (() => {\n",
              "      const buttonEl =\n",
              "        document.querySelector('#id_a2fb4d18-c0da-44c4-bf39-f24cfdf19ebc button.colab-df-generate');\n",
              "      buttonEl.style.display =\n",
              "        google.colab.kernel.accessAllowed ? 'block' : 'none';\n",
              "\n",
              "      buttonEl.onclick = () => {\n",
              "        google.colab.notebook.generateWithVariable('dataset');\n",
              "      }\n",
              "      })();\n",
              "    </script>\n",
              "  </div>\n",
              "\n",
              "    </div>\n",
              "  </div>\n"
            ],
            "application/vnd.google.colaboratory.intrinsic+json": {
              "type": "dataframe",
              "variable_name": "dataset",
              "summary": "{\n  \"name\": \"dataset\",\n  \"rows\": 344,\n  \"fields\": [\n    {\n      \"column\": \"CulmenLength\",\n      \"properties\": {\n        \"dtype\": \"number\",\n        \"std\": 5.4595837139265315,\n        \"min\": 32.1,\n        \"max\": 59.6,\n        \"num_unique_values\": 164,\n        \"samples\": [\n          49.4,\n          43.8,\n          43.4\n        ],\n        \"semantic_type\": \"\",\n        \"description\": \"\"\n      }\n    },\n    {\n      \"column\": \"CulmenDepth\",\n      \"properties\": {\n        \"dtype\": \"number\",\n        \"std\": 1.9747931568167814,\n        \"min\": 13.1,\n        \"max\": 21.5,\n        \"num_unique_values\": 80,\n        \"samples\": [\n          16.9,\n          18.7,\n          18.6\n        ],\n        \"semantic_type\": \"\",\n        \"description\": \"\"\n      }\n    },\n    {\n      \"column\": \"FlipperLength\",\n      \"properties\": {\n        \"dtype\": \"number\",\n        \"std\": 14.061713679356888,\n        \"min\": 172.0,\n        \"max\": 231.0,\n        \"num_unique_values\": 55,\n        \"samples\": [\n          201.0,\n          180.0,\n          211.0\n        ],\n        \"semantic_type\": \"\",\n        \"description\": \"\"\n      }\n    },\n    {\n      \"column\": \"BodyMass\",\n      \"properties\": {\n        \"dtype\": \"number\",\n        \"std\": 801.9545356980955,\n        \"min\": 2700.0,\n        \"max\": 6300.0,\n        \"num_unique_values\": 94,\n        \"samples\": [\n          4350.0,\n          4150.0,\n          5700.0\n        ],\n        \"semantic_type\": \"\",\n        \"description\": \"\"\n      }\n    },\n    {\n      \"column\": \"Species\",\n      \"properties\": {\n        \"dtype\": \"number\",\n        \"std\": 0,\n        \"min\": 0,\n        \"max\": 2,\n        \"num_unique_values\": 3,\n        \"samples\": [\n          0,\n          1,\n          2\n        ],\n        \"semantic_type\": \"\",\n        \"description\": \"\"\n      }\n    }\n  ]\n}"
            }
          },
          "metadata": {},
          "execution_count": 2
        }
      ]
    },
    {
      "cell_type": "code",
      "source": [
        "X = dataset.drop(['Species'], axis=1).copy()\n",
        "y = dataset['Species'].copy()\n",
        "X_train, X_test, y_train, y_test = train_test_split(X, y, test_size=0.30, random_state=42, stratify=y)"
      ],
      "metadata": {
        "id": "yha5JpTr0Dww"
      },
      "execution_count": 3,
      "outputs": []
    },
    {
      "cell_type": "code",
      "source": [
        "num_features = ['CulmenLength', 'CulmenDepth', 'FlipperLength', 'BodyMass']\n",
        "\n",
        "# przygotowanie wartości numerycznych\n",
        "num_preparation = Pipeline(steps=[\n",
        "    ('fill_missings', SimpleImputer(strategy='mean'))\n",
        "])"
      ],
      "metadata": {
        "id": "MjCpOuc601VM"
      },
      "execution_count": 4,
      "outputs": []
    },
    {
      "cell_type": "code",
      "source": [
        "print('Surowy zbiór danych - zbiór treningowy:')\n",
        "print(X_train[num_features].isnull().mean())\n",
        "X_train_trasnformed = num_preparation.fit_transform(X_train[num_features])\n",
        "X_train_trasnformed = pd.DataFrame(X_train_trasnformed, columns=num_features)\n",
        "print('\\nWyjście Pipeline - zbiór treningowy')\n",
        "print(X_train_trasnformed[num_features].isnull().mean())"
      ],
      "metadata": {
        "colab": {
          "base_uri": "https://localhost:8080/"
        },
        "id": "4_K0cccD2BtH",
        "outputId": "fe9edd42-8576-45ae-9b64-261030a9f648"
      },
      "execution_count": 5,
      "outputs": [
        {
          "output_type": "stream",
          "name": "stdout",
          "text": [
            "Surowy zbiór danych - zbiór treningowy:\n",
            "CulmenLength     0.008333\n",
            "CulmenDepth      0.008333\n",
            "FlipperLength    0.008333\n",
            "BodyMass         0.008333\n",
            "dtype: float64\n",
            "\n",
            "Wyjście Pipeline - zbiór treningowy\n",
            "CulmenLength     0.0\n",
            "CulmenDepth      0.0\n",
            "FlipperLength    0.0\n",
            "BodyMass         0.0\n",
            "dtype: float64\n"
          ]
        }
      ]
    },
    {
      "cell_type": "code",
      "source": [
        "print('Surowy zbiór danych - zbiór testowy:')\n",
        "print(X_test[num_features].isnull().mean())\n",
        "X_test_trasnformed = num_preparation.transform(X_test[num_features])\n",
        "X_test_trasnformed = pd.DataFrame(X_test_trasnformed, columns=num_features)\n",
        "print('\\nWyjście Pipeline - zbiór testowy')\n",
        "print(X_test_trasnformed[num_features].isnull().mean())"
      ],
      "metadata": {
        "colab": {
          "base_uri": "https://localhost:8080/"
        },
        "id": "jIyGQOQO2Z6J",
        "outputId": "2649e4a4-d875-4fb3-81d2-48444531be6a"
      },
      "execution_count": 6,
      "outputs": [
        {
          "output_type": "stream",
          "name": "stdout",
          "text": [
            "Surowy zbiór danych - zbiór testowy:\n",
            "CulmenLength     0.0\n",
            "CulmenDepth      0.0\n",
            "FlipperLength    0.0\n",
            "BodyMass         0.0\n",
            "dtype: float64\n",
            "\n",
            "Wyjście Pipeline - zbiór testowy\n",
            "CulmenLength     0.0\n",
            "CulmenDepth      0.0\n",
            "FlipperLength    0.0\n",
            "BodyMass         0.0\n",
            "dtype: float64\n"
          ]
        }
      ]
    },
    {
      "cell_type": "code",
      "source": [
        "num_features = ['CulmenLength', 'CulmenDepth', 'FlipperLength', 'BodyMass']\n",
        "\n",
        "# przygotowanie wartości numerycznych\n",
        "num_preparation = Pipeline(steps=[\n",
        "    ('fill_missings', SimpleImputer(strategy='mean'))\n",
        "])\n",
        "\n",
        "# transformer = wartości numeryczne\n",
        "data_preparation = ColumnTransformer(transformers=[\n",
        "    ('numeric_preprocessing', num_preparation, num_features)\n",
        "])\n",
        "\n",
        "penguins_pipeline_v1 = Pipeline(steps=[('preprocessor', data_preparation),\n",
        "                                    ('model', LogisticRegression(max_iter=10000))])"
      ],
      "metadata": {
        "id": "Ho0N9lHk2j0i"
      },
      "execution_count": 7,
      "outputs": []
    },
    {
      "cell_type": "code",
      "source": [
        "penguins_pipeline_v1.fit(X_train, y_train)"
      ],
      "metadata": {
        "colab": {
          "base_uri": "https://localhost:8080/",
          "height": 191
        },
        "id": "l6PzLF1A5ISU",
        "outputId": "987e164a-c498-4661-dda5-fa65bd2fb16e"
      },
      "execution_count": 8,
      "outputs": [
        {
          "output_type": "execute_result",
          "data": {
            "text/plain": [
              "Pipeline(steps=[('preprocessor',\n",
              "                 ColumnTransformer(transformers=[('numeric_preprocessing',\n",
              "                                                  Pipeline(steps=[('fill_missings',\n",
              "                                                                   SimpleImputer())]),\n",
              "                                                  ['CulmenLength',\n",
              "                                                   'CulmenDepth',\n",
              "                                                   'FlipperLength',\n",
              "                                                   'BodyMass'])])),\n",
              "                ('model', LogisticRegression(max_iter=10000))])"
            ],
            "text/html": [
              "<style>#sk-container-id-1 {color: black;background-color: white;}#sk-container-id-1 pre{padding: 0;}#sk-container-id-1 div.sk-toggleable {background-color: white;}#sk-container-id-1 label.sk-toggleable__label {cursor: pointer;display: block;width: 100%;margin-bottom: 0;padding: 0.3em;box-sizing: border-box;text-align: center;}#sk-container-id-1 label.sk-toggleable__label-arrow:before {content: \"▸\";float: left;margin-right: 0.25em;color: #696969;}#sk-container-id-1 label.sk-toggleable__label-arrow:hover:before {color: black;}#sk-container-id-1 div.sk-estimator:hover label.sk-toggleable__label-arrow:before {color: black;}#sk-container-id-1 div.sk-toggleable__content {max-height: 0;max-width: 0;overflow: hidden;text-align: left;background-color: #f0f8ff;}#sk-container-id-1 div.sk-toggleable__content pre {margin: 0.2em;color: black;border-radius: 0.25em;background-color: #f0f8ff;}#sk-container-id-1 input.sk-toggleable__control:checked~div.sk-toggleable__content {max-height: 200px;max-width: 100%;overflow: auto;}#sk-container-id-1 input.sk-toggleable__control:checked~label.sk-toggleable__label-arrow:before {content: \"▾\";}#sk-container-id-1 div.sk-estimator input.sk-toggleable__control:checked~label.sk-toggleable__label {background-color: #d4ebff;}#sk-container-id-1 div.sk-label input.sk-toggleable__control:checked~label.sk-toggleable__label {background-color: #d4ebff;}#sk-container-id-1 input.sk-hidden--visually {border: 0;clip: rect(1px 1px 1px 1px);clip: rect(1px, 1px, 1px, 1px);height: 1px;margin: -1px;overflow: hidden;padding: 0;position: absolute;width: 1px;}#sk-container-id-1 div.sk-estimator {font-family: monospace;background-color: #f0f8ff;border: 1px dotted black;border-radius: 0.25em;box-sizing: border-box;margin-bottom: 0.5em;}#sk-container-id-1 div.sk-estimator:hover {background-color: #d4ebff;}#sk-container-id-1 div.sk-parallel-item::after {content: \"\";width: 100%;border-bottom: 1px solid gray;flex-grow: 1;}#sk-container-id-1 div.sk-label:hover label.sk-toggleable__label {background-color: #d4ebff;}#sk-container-id-1 div.sk-serial::before {content: \"\";position: absolute;border-left: 1px solid gray;box-sizing: border-box;top: 0;bottom: 0;left: 50%;z-index: 0;}#sk-container-id-1 div.sk-serial {display: flex;flex-direction: column;align-items: center;background-color: white;padding-right: 0.2em;padding-left: 0.2em;position: relative;}#sk-container-id-1 div.sk-item {position: relative;z-index: 1;}#sk-container-id-1 div.sk-parallel {display: flex;align-items: stretch;justify-content: center;background-color: white;position: relative;}#sk-container-id-1 div.sk-item::before, #sk-container-id-1 div.sk-parallel-item::before {content: \"\";position: absolute;border-left: 1px solid gray;box-sizing: border-box;top: 0;bottom: 0;left: 50%;z-index: -1;}#sk-container-id-1 div.sk-parallel-item {display: flex;flex-direction: column;z-index: 1;position: relative;background-color: white;}#sk-container-id-1 div.sk-parallel-item:first-child::after {align-self: flex-end;width: 50%;}#sk-container-id-1 div.sk-parallel-item:last-child::after {align-self: flex-start;width: 50%;}#sk-container-id-1 div.sk-parallel-item:only-child::after {width: 0;}#sk-container-id-1 div.sk-dashed-wrapped {border: 1px dashed gray;margin: 0 0.4em 0.5em 0.4em;box-sizing: border-box;padding-bottom: 0.4em;background-color: white;}#sk-container-id-1 div.sk-label label {font-family: monospace;font-weight: bold;display: inline-block;line-height: 1.2em;}#sk-container-id-1 div.sk-label-container {text-align: center;}#sk-container-id-1 div.sk-container {/* jupyter's `normalize.less` sets `[hidden] { display: none; }` but bootstrap.min.css set `[hidden] { display: none !important; }` so we also need the `!important` here to be able to override the default hidden behavior on the sphinx rendered scikit-learn.org. See: https://github.com/scikit-learn/scikit-learn/issues/21755 */display: inline-block !important;position: relative;}#sk-container-id-1 div.sk-text-repr-fallback {display: none;}</style><div id=\"sk-container-id-1\" class=\"sk-top-container\"><div class=\"sk-text-repr-fallback\"><pre>Pipeline(steps=[(&#x27;preprocessor&#x27;,\n",
              "                 ColumnTransformer(transformers=[(&#x27;numeric_preprocessing&#x27;,\n",
              "                                                  Pipeline(steps=[(&#x27;fill_missings&#x27;,\n",
              "                                                                   SimpleImputer())]),\n",
              "                                                  [&#x27;CulmenLength&#x27;,\n",
              "                                                   &#x27;CulmenDepth&#x27;,\n",
              "                                                   &#x27;FlipperLength&#x27;,\n",
              "                                                   &#x27;BodyMass&#x27;])])),\n",
              "                (&#x27;model&#x27;, LogisticRegression(max_iter=10000))])</pre><b>In a Jupyter environment, please rerun this cell to show the HTML representation or trust the notebook. <br />On GitHub, the HTML representation is unable to render, please try loading this page with nbviewer.org.</b></div><div class=\"sk-container\" hidden><div class=\"sk-item sk-dashed-wrapped\"><div class=\"sk-label-container\"><div class=\"sk-label sk-toggleable\"><input class=\"sk-toggleable__control sk-hidden--visually\" id=\"sk-estimator-id-1\" type=\"checkbox\" ><label for=\"sk-estimator-id-1\" class=\"sk-toggleable__label sk-toggleable__label-arrow\">Pipeline</label><div class=\"sk-toggleable__content\"><pre>Pipeline(steps=[(&#x27;preprocessor&#x27;,\n",
              "                 ColumnTransformer(transformers=[(&#x27;numeric_preprocessing&#x27;,\n",
              "                                                  Pipeline(steps=[(&#x27;fill_missings&#x27;,\n",
              "                                                                   SimpleImputer())]),\n",
              "                                                  [&#x27;CulmenLength&#x27;,\n",
              "                                                   &#x27;CulmenDepth&#x27;,\n",
              "                                                   &#x27;FlipperLength&#x27;,\n",
              "                                                   &#x27;BodyMass&#x27;])])),\n",
              "                (&#x27;model&#x27;, LogisticRegression(max_iter=10000))])</pre></div></div></div><div class=\"sk-serial\"><div class=\"sk-item sk-dashed-wrapped\"><div class=\"sk-label-container\"><div class=\"sk-label sk-toggleable\"><input class=\"sk-toggleable__control sk-hidden--visually\" id=\"sk-estimator-id-2\" type=\"checkbox\" ><label for=\"sk-estimator-id-2\" class=\"sk-toggleable__label sk-toggleable__label-arrow\">preprocessor: ColumnTransformer</label><div class=\"sk-toggleable__content\"><pre>ColumnTransformer(transformers=[(&#x27;numeric_preprocessing&#x27;,\n",
              "                                 Pipeline(steps=[(&#x27;fill_missings&#x27;,\n",
              "                                                  SimpleImputer())]),\n",
              "                                 [&#x27;CulmenLength&#x27;, &#x27;CulmenDepth&#x27;,\n",
              "                                  &#x27;FlipperLength&#x27;, &#x27;BodyMass&#x27;])])</pre></div></div></div><div class=\"sk-parallel\"><div class=\"sk-parallel-item\"><div class=\"sk-item\"><div class=\"sk-label-container\"><div class=\"sk-label sk-toggleable\"><input class=\"sk-toggleable__control sk-hidden--visually\" id=\"sk-estimator-id-3\" type=\"checkbox\" ><label for=\"sk-estimator-id-3\" class=\"sk-toggleable__label sk-toggleable__label-arrow\">numeric_preprocessing</label><div class=\"sk-toggleable__content\"><pre>[&#x27;CulmenLength&#x27;, &#x27;CulmenDepth&#x27;, &#x27;FlipperLength&#x27;, &#x27;BodyMass&#x27;]</pre></div></div></div><div class=\"sk-serial\"><div class=\"sk-item\"><div class=\"sk-serial\"><div class=\"sk-item\"><div class=\"sk-estimator sk-toggleable\"><input class=\"sk-toggleable__control sk-hidden--visually\" id=\"sk-estimator-id-4\" type=\"checkbox\" ><label for=\"sk-estimator-id-4\" class=\"sk-toggleable__label sk-toggleable__label-arrow\">SimpleImputer</label><div class=\"sk-toggleable__content\"><pre>SimpleImputer()</pre></div></div></div></div></div></div></div></div></div></div><div class=\"sk-item\"><div class=\"sk-estimator sk-toggleable\"><input class=\"sk-toggleable__control sk-hidden--visually\" id=\"sk-estimator-id-5\" type=\"checkbox\" ><label for=\"sk-estimator-id-5\" class=\"sk-toggleable__label sk-toggleable__label-arrow\">LogisticRegression</label><div class=\"sk-toggleable__content\"><pre>LogisticRegression(max_iter=10000)</pre></div></div></div></div></div></div></div>"
            ]
          },
          "metadata": {},
          "execution_count": 8
        }
      ]
    },
    {
      "cell_type": "code",
      "source": [
        "predictions_lr = penguins_pipeline_v1.predict(X_test)"
      ],
      "metadata": {
        "id": "vr_c5Qle5f1S"
      },
      "execution_count": 10,
      "outputs": []
    },
    {
      "cell_type": "code",
      "source": [
        "print(classification_report(y_test, predictions_lr))"
      ],
      "metadata": {
        "colab": {
          "base_uri": "https://localhost:8080/"
        },
        "id": "TNzJo6YS6KyX",
        "outputId": "92109f5d-0531-4ff1-970b-3773ce9e9668"
      },
      "execution_count": 11,
      "outputs": [
        {
          "output_type": "stream",
          "name": "stdout",
          "text": [
            "              precision    recall  f1-score   support\n",
            "\n",
            "           0       0.98      1.00      0.99        46\n",
            "           1       1.00      1.00      1.00        37\n",
            "           2       1.00      0.95      0.98        21\n",
            "\n",
            "    accuracy                           0.99       104\n",
            "   macro avg       0.99      0.98      0.99       104\n",
            "weighted avg       0.99      0.99      0.99       104\n",
            "\n"
          ]
        }
      ]
    },
    {
      "cell_type": "code",
      "source": [
        "print(\"PORÓWNANIE\")\n",
        "print(\"Classifiacation Report w przypadku modelu z poprzedniego modułu dla regresji logistycznej.\")"
      ],
      "metadata": {
        "colab": {
          "base_uri": "https://localhost:8080/"
        },
        "id": "C7Zv-k136SPq",
        "outputId": "712e151a-4b5c-4598-d27f-0f902df5a381"
      },
      "execution_count": 12,
      "outputs": [
        {
          "output_type": "stream",
          "name": "stdout",
          "text": [
            "PORÓWNANIE\n",
            "Classifiacation Report w przypadku modelu z poprzedniego modułu dla regresji logistycznej.\n"
          ]
        }
      ]
    },
    {
      "cell_type": "markdown",
      "source": [
        "![Zrzut ekranu 2024-07-16 114439.jpg](data:image/jpeg;base64,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)"
      ],
      "metadata": {
        "id": "-pSremwS7ZsW"
      }
    },
    {
      "cell_type": "code",
      "source": [
        "print(\"Classifiacation Report w przypadku modelu z poprzedniego modułu dla modelu K Najbliższych Sąsiadów.\")"
      ],
      "metadata": {
        "colab": {
          "base_uri": "https://localhost:8080/"
        },
        "id": "sx-tVstc7vTE",
        "outputId": "0e35cd7f-3a44-40ab-cf45-8570e52dfd44"
      },
      "execution_count": 13,
      "outputs": [
        {
          "output_type": "stream",
          "name": "stdout",
          "text": [
            "Classifiacation Report w przypadku modelu z poprzedniego modułu dla modelu K Najbliższych Sąsiadów.\n"
          ]
        }
      ]
    },
    {
      "cell_type": "markdown",
      "source": [
        "![knn.jpg](data:image/jpeg;base64,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)"
      ],
      "metadata": {
        "id": "7s6TYGWz754F"
      }
    },
    {
      "cell_type": "code",
      "source": [
        "print(\"Classifiacation Report w przypadku modelu z poprzedniego modułu dla modelu SUPPORT VECTOR MACHINES.\")"
      ],
      "metadata": {
        "colab": {
          "base_uri": "https://localhost:8080/"
        },
        "id": "JAjoZSaR8DLp",
        "outputId": "e2fbe53d-16cf-4583-d12d-6d383ab9635c"
      },
      "execution_count": 14,
      "outputs": [
        {
          "output_type": "stream",
          "name": "stdout",
          "text": [
            "Classifiacation Report w przypadku modelu z poprzedniego modułu dla modelu SUPPORT VECTOR MACHINES.\n"
          ]
        }
      ]
    },
    {
      "cell_type": "markdown",
      "source": [
        "![svm.jpg](data:image/jpeg;base64,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)"
      ],
      "metadata": {
        "id": "ICU7OiB38MJo"
      }
    },
    {
      "cell_type": "code",
      "source": [
        "print(\"Jak można zauważyć najlepsze metryki uzyskał model opracowany z wykorzystaniem przygotowanego pipeline'u.\")"
      ],
      "metadata": {
        "colab": {
          "base_uri": "https://localhost:8080/"
        },
        "id": "NcdMKiuP8gxm",
        "outputId": "25850e8c-6a9c-439c-f680-916339654d64"
      },
      "execution_count": 15,
      "outputs": [
        {
          "output_type": "stream",
          "name": "stdout",
          "text": [
            "Jak można zauważyć najlepsze metryki uzyskał model opracowany z wykorzystaniem przygotowanego pipeline'u.\n"
          ]
        }
      ]
    },
    {
      "cell_type": "code",
      "source": [],
      "metadata": {
        "id": "WdVFHfaV8ull"
      },
      "execution_count": null,
      "outputs": []
    }
  ]
}